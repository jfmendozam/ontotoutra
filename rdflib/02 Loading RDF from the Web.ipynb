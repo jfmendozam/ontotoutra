{
 "metadata": {
  "language_info": {
   "codemirror_mode": {
    "name": "ipython",
    "version": 3
   },
   "file_extension": ".py",
   "mimetype": "text/x-python",
   "name": "python",
   "nbconvert_exporter": "python",
   "pygments_lexer": "ipython3",
   "version": "3.8.8"
  },
  "orig_nbformat": 2,
  "kernelspec": {
   "name": "python388jvsc74a57bd0f257dcd9d9ee9ad67d2a6a80223f32689d403f9ca3dc3190a69946f37d6a432e",
   "display_name": "Python 3.8.8 64-bit ('anaconda3': virtualenv)"
  }
 },
 "nbformat": 4,
 "nbformat_minor": 2,
 "cells": [
  {
   "source": [
    "# Loading and Saving"
   ],
   "cell_type": "markdown",
   "metadata": {}
  },
  {
   "cell_type": "code",
   "execution_count": null,
   "metadata": {},
   "outputs": [],
   "source": [
    "# !pip install rdflib"
   ]
  },
  {
   "cell_type": "code",
   "execution_count": 1,
   "metadata": {},
   "outputs": [],
   "source": [
    "import rdflib"
   ]
  },
  {
   "cell_type": "code",
   "execution_count": 2,
   "metadata": {},
   "outputs": [],
   "source": [
    "# Initialize a graph\n",
    "\n",
    "g = rdflib.Graph()"
   ]
  },
  {
   "cell_type": "code",
   "execution_count": 3,
   "metadata": {},
   "outputs": [
    {
     "output_type": "execute_result",
     "data": {
      "text/plain": [
       "<Graph identifier=N661bb2e93aac4770b8d52a839968514b (<class 'rdflib.graph.Graph'>)>"
      ]
     },
     "metadata": {},
     "execution_count": 3
    }
   ],
   "source": [
    "# Parse in an RDF file graph the web\n",
    "g.parse('http://dbpedia.org/resource/Python_(programming_language)')"
   ]
  },
  {
   "cell_type": "code",
   "execution_count": 4,
   "metadata": {},
   "outputs": [
    {
     "output_type": "stream",
     "name": "stdout",
     "text": [
      "5027\n"
     ]
    }
   ],
   "source": [
    "print(len(g))"
   ]
  },
  {
   "source": [
    "%ls /home/jf/Documentos/education/phd/thesis/dev/ontologies/protege/rdflib/"
   ],
   "cell_type": "code",
   "metadata": {},
   "execution_count": 12,
   "outputs": [
    {
     "output_type": "stream",
     "name": "stdout",
     "text": [
      "'01 RDF_introduction.ipynb'              dbpedia.ipynb\n'02 Creating_RDF_triples.ipynb'          example.xml\n'03 rdflib_querying_with_SPARQL.ipynb'   README.md\n'04 Navigating_RDF_Graphs.ipynb'\n"
     ]
    }
   ]
  },
  {
   "cell_type": "code",
   "execution_count": 13,
   "metadata": {},
   "outputs": [
    {
     "output_type": "stream",
     "name": "stdout",
     "text": [
      "<?xml version=\"1.0\" encoding=\"UTF-8\"?>\n\n<rdf:RDF xmlns:ex=\"http://example.org/\" xmlns:rdf=\"http://www.w3.org/1999/02/22-rdf-syntax-ns#\">\n    <rdf:Description rdf:about=\"http://example.org/Subject1\">\n        <ex:predicate1 xml:lang=\"en\">object1</ex:predicate1>\n    </rdf:Description>\n\n    <rdf:Description rdf:about=\"http://example.org/Subject2\">\n        <ex:predicate2 xml:lang=\"en\">object2</ex:predicate2>\n    </rdf:Description>\n</rdf:RDF>"
     ]
    }
   ],
   "source": [
    "%cat /home/jf/Documentos/education/phd/thesis/dev/ontologies/protege/rdflib/example.xml"
   ]
  },
  {
   "cell_type": "code",
   "execution_count": 17,
   "metadata": {},
   "outputs": [
    {
     "output_type": "execute_result",
     "data": {
      "text/plain": [
       "<Graph identifier=N96a7cabccb2c40be97ec857aad4170e3 (<class 'rdflib.graph.Graph'>)>"
      ]
     },
     "metadata": {},
     "execution_count": 17
    }
   ],
   "source": [
    "# Parse in an RDF file from the file\n",
    "\n",
    "h = rdflib.Graph()\n",
    "path = '/home/jf/Documentos/education/phd/thesis/dev/ontologies/protege/rdflib/'\n",
    "format_ = rdflib.util.guess_format(path + 'example.xml')\n",
    "h.parse(path + 'example.xml', format=format_)"
   ]
  },
  {
   "cell_type": "code",
   "execution_count": 18,
   "metadata": {},
   "outputs": [
    {
     "output_type": "stream",
     "name": "stdout",
     "text": [
      "Graph h has 2 facts\n<?xml version=\"1.0\" encoding=\"UTF-8\"?>\n<rdf:RDF\n   xmlns:ex=\"http://example.org/\"\n   xmlns:rdf=\"http://www.w3.org/1999/02/22-rdf-syntax-ns#\"\n>\n  <rdf:Description rdf:about=\"http://example.org/Subject2\">\n    <ex:predicate2 xml:lang=\"en\">object2</ex:predicate2>\n  </rdf:Description>\n  <rdf:Description rdf:about=\"http://example.org/Subject1\">\n    <ex:predicate1 xml:lang=\"en\">object1</ex:predicate1>\n  </rdf:Description>\n</rdf:RDF>\n\n"
     ]
    }
   ],
   "source": [
    "print(f'Graph h has {len(h)} facts')\n",
    "print(h.serialize().decode('u8'))"
   ]
  },
  {
   "cell_type": "code",
   "execution_count": 19,
   "metadata": {},
   "outputs": [
    {
     "output_type": "stream",
     "name": "stdout",
     "text": [
      "(rdflib.term.URIRef('http://example.org/Subject2'), rdflib.term.URIRef('http://example.org/predicate2'), rdflib.term.Literal('object2', lang='en'))\n(rdflib.term.URIRef('http://example.org/Subject1'), rdflib.term.URIRef('http://example.org/predicate1'), rdflib.term.Literal('object1', lang='en'))\n"
     ]
    }
   ],
   "source": [
    "for triples in h:\n",
    "    print(triples)"
   ]
  },
  {
   "cell_type": "code",
   "execution_count": 27,
   "metadata": {},
   "outputs": [],
   "source": [
    "data = '''\n",
    "<http://bigasterisk.com/foaf.rdf#drewp> <http://www.w3.org/1999/02/22/22-rdf-syntax-ns#type> <http://xmlns.com/foaf/0.1/Person> . \n",
    "<http://bigasterisk.com/foaf.rdf#drewp> <http://example.com/says> \"Hello world\" .\n",
    "'''"
   ]
  },
  {
   "cell_type": "code",
   "execution_count": 28,
   "metadata": {},
   "outputs": [
    {
     "output_type": "stream",
     "name": "stdout",
     "text": [
      "Graph j has 2 facts\n"
     ]
    }
   ],
   "source": [
    "# Parse in a RDF from the string\n",
    "\n",
    "j = rdflib.Graph()\n",
    "j.parse(data=data, format='n3')\n",
    "print(f'Graph j has {len(j)} facts')\n"
   ]
  },
  {
   "cell_type": "code",
   "execution_count": 29,
   "metadata": {},
   "outputs": [
    {
     "output_type": "stream",
     "name": "stdout",
     "text": [
      "http://bigasterisk.com/foaf.rdf#drewp http://www.w3.org/1999/02/22/22-rdf-syntax-ns#type http://xmlns.com/foaf/0.1/Person\nhttp://bigasterisk.com/foaf.rdf#drewp http://example.com/says Hello world\n"
     ]
    }
   ],
   "source": [
    "for s, p, o in j:\n",
    "    print(s, p, o)"
   ]
  },
  {
   "cell_type": "code",
   "execution_count": 30,
   "metadata": {},
   "outputs": [
    {
     "output_type": "stream",
     "name": "stdout",
     "text": [
      "@prefix ns1: <http://www.w3.org/1999/02/22/22-rdf-syntax-ns#> .\n@prefix ns2: <http://example.com/> .\n\n<http://bigasterisk.com/foaf.rdf#drewp> ns2:says \"Hello world\" ;\n    ns1:type <http://xmlns.com/foaf/0.1/Person> .\n\n\n"
     ]
    }
   ],
   "source": [
    "# Print out the entire Graph in the RDF Turtle format\n",
    "\n",
    "print(j.serialize(format='ttl').decode('u8'))"
   ]
  },
  {
   "cell_type": "code",
   "execution_count": 31,
   "metadata": {},
   "outputs": [],
   "source": [
    "h.serialize('example.nt', format='nt')"
   ]
  },
  {
   "cell_type": "code",
   "execution_count": 32,
   "metadata": {},
   "outputs": [
    {
     "output_type": "stream",
     "name": "stdout",
     "text": [
      " \u001b[0m\u001b[01;34mAnalytic_Web_Apps\u001b[0m/         \u001b[01;34mDash_More_Advanced_Shit\u001b[0m/   \u001b[01;34mLearn-from-Others\u001b[0m/\n \u001b[01;34mBootstrap\u001b[0m/                 dash-plotly-logo.png       \u001b[01;34mOther\u001b[0m/\n \u001b[01;34mCallbacks\u001b[0m/                 \u001b[01;34mDataTable\u001b[0m/                 \u001b[01;34mPlotly_Graphs\u001b[0m/\n \u001b[01;34mCytoscape\u001b[0m/                 \u001b[01;34mDeploy_App_to_Web\u001b[0m/         README.md\n\u001b[01;34m'Dash Components'\u001b[0m/          example.nt                 \u001b[01;34mSupporters\u001b[0m/\n \u001b[01;34mDash_Interactive_Graphs\u001b[0m/  'Famous Supporters.md'\n"
     ]
    }
   ],
   "source": [
    "%ls"
   ]
  },
  {
   "cell_type": "code",
   "execution_count": 33,
   "metadata": {},
   "outputs": [
    {
     "output_type": "stream",
     "name": "stdout",
     "text": [
      "<http://example.org/Subject2> <http://example.org/predicate2> \"object2\"@en .\n<http://example.org/Subject1> <http://example.org/predicate1> \"object1\"@en .\n\n"
     ]
    }
   ],
   "source": [
    "%cat example.nt"
   ]
  },
  {
   "cell_type": "code",
   "execution_count": null,
   "metadata": {},
   "outputs": [],
   "source": []
  }
 ]
}