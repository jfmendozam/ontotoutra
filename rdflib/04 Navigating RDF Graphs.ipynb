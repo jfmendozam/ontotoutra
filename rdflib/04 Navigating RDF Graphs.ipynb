{
 "metadata": {
  "language_info": {
   "codemirror_mode": {
    "name": "ipython",
    "version": 3
   },
   "file_extension": ".py",
   "mimetype": "text/x-python",
   "name": "python",
   "nbconvert_exporter": "python",
   "pygments_lexer": "ipython3",
   "version": "3.8.8"
  },
  "orig_nbformat": 2,
  "kernelspec": {
   "name": "python388jvsc74a57bd0f257dcd9d9ee9ad67d2a6a80223f32689d403f9ca3dc3190a69946f37d6a432e",
   "display_name": "Python 3.8.8 64-bit ('anaconda3': virtualenv)"
  }
 },
 "nbformat": 4,
 "nbformat_minor": 2,
 "cells": [
  {
   "source": [
    "# Navigating RDF Graphs"
   ],
   "cell_type": "markdown",
   "metadata": {}
  },
  {
   "cell_type": "code",
   "execution_count": 2,
   "metadata": {},
   "outputs": [],
   "source": [
    "# ! pip install rdflib"
   ]
  },
  {
   "cell_type": "code",
   "execution_count": 3,
   "metadata": {},
   "outputs": [
    {
     "output_type": "execute_result",
     "data": {
      "text/plain": [
       "<Graph identifier=Nc771186995354bb9919c9be159ad4c26 (<class 'rdflib.graph.Graph'>)>"
      ]
     },
     "metadata": {},
     "execution_count": 3
    }
   ],
   "source": [
    "import rdflib\n",
    "g = rdflib.Graph()\n",
    "g.parse('http://dbpedia.org/resource/Berlin')"
   ]
  },
  {
   "source": [
    "# Iterating over graph\n",
    "\n",
    "for s, p, o in g:\n",
    "    print(s, p, o)\n",
    "    break"
   ],
   "cell_type": "code",
   "metadata": {},
   "execution_count": 4,
   "outputs": [
    {
     "output_type": "stream",
     "name": "stdout",
     "text": [
      "http://dbpedia.org/resource/Block_House_(restaurant) http://dbpedia.org/ontology/wikiPageWikiLink http://dbpedia.org/resource/Berlin\n"
     ]
    }
   ]
  },
  {
   "cell_type": "code",
   "execution_count": 5,
   "metadata": {},
   "outputs": [
    {
     "output_type": "stream",
     "name": "stdout",
     "text": [
      "10001\n"
     ]
    }
   ],
   "source": [
    "print(len(g))"
   ]
  },
  {
   "cell_type": "code",
   "execution_count": 6,
   "metadata": {},
   "outputs": [
    {
     "output_type": "stream",
     "name": "stdout",
     "text": [
      "Triple exists!\n"
     ]
    }
   ],
   "source": [
    "# Check if the triple exists\n",
    "from rdflib import URIRef\n",
    "\n",
    "#if (s, p, o) in g:\n",
    "if (URIRef('http://dbpedia.org/resource/Berlin'), None, None) in g:\n",
    "    print(f'Triple exists!')\n",
    "else:\n",
    "    print(f'Triple does not exist!')"
   ]
  },
  {
   "cell_type": "code",
   "execution_count": 9,
   "metadata": {},
   "outputs": [
    {
     "output_type": "stream",
     "name": "stdout",
     "text": [
      "{rdflib.term.URIRef('http://dbpedia.org/ontology/PopulatedPlace/areaTotal'),\n rdflib.term.URIRef('http://dbpedia.org/ontology/abstract'),\n rdflib.term.URIRef('http://dbpedia.org/ontology/areaCode'),\n rdflib.term.URIRef('http://dbpedia.org/ontology/areaTotal'),\n rdflib.term.URIRef('http://dbpedia.org/ontology/birthPlace'),\n rdflib.term.URIRef('http://dbpedia.org/ontology/country'),\n rdflib.term.URIRef('http://dbpedia.org/ontology/deathPlace'),\n rdflib.term.URIRef('http://dbpedia.org/ontology/elevation'),\n rdflib.term.URIRef('http://dbpedia.org/ontology/governingBody'),\n rdflib.term.URIRef('http://dbpedia.org/ontology/isoCodeRegion'),\n rdflib.term.URIRef('http://dbpedia.org/ontology/politicalLeader'),\n rdflib.term.URIRef('http://dbpedia.org/ontology/populationAsOf'),\n rdflib.term.URIRef('http://dbpedia.org/ontology/populationMetro'),\n rdflib.term.URIRef('http://dbpedia.org/ontology/populationTotal'),\n rdflib.term.URIRef('http://dbpedia.org/ontology/thumbnail'),\n rdflib.term.URIRef('http://dbpedia.org/ontology/timeZone'),\n rdflib.term.URIRef('http://dbpedia.org/ontology/type'),\n rdflib.term.URIRef('http://dbpedia.org/ontology/utcOffset'),\n rdflib.term.URIRef('http://dbpedia.org/ontology/wikiPageExternalLink'),\n rdflib.term.URIRef('http://dbpedia.org/ontology/wikiPageID'),\n rdflib.term.URIRef('http://dbpedia.org/ontology/wikiPageLength'),\n rdflib.term.URIRef('http://dbpedia.org/ontology/wikiPageRevisionID'),\n rdflib.term.URIRef('http://dbpedia.org/ontology/wikiPageWikiLink'),\n rdflib.term.URIRef('http://dbpedia.org/property/align'),\n rdflib.term.URIRef('http://dbpedia.org/property/areaCode'),\n rdflib.term.URIRef('http://dbpedia.org/property/areaTotalKm'),\n rdflib.term.URIRef('http://dbpedia.org/property/birthPlace'),\n rdflib.term.URIRef('http://dbpedia.org/property/blank1InfoSec'),\n rdflib.term.URIRef('http://dbpedia.org/property/blank1NameSec'),\n rdflib.term.URIRef('http://dbpedia.org/property/blank2InfoSec'),\n rdflib.term.URIRef('http://dbpedia.org/property/blank2NameSec'),\n rdflib.term.URIRef('http://dbpedia.org/property/blankInfoSec'),\n rdflib.term.URIRef('http://dbpedia.org/property/blankNameSec'),\n rdflib.term.URIRef('http://dbpedia.org/property/caption'),\n rdflib.term.URIRef('http://dbpedia.org/property/captionAlign'),\n rdflib.term.URIRef('http://dbpedia.org/property/date'),\n rdflib.term.URIRef('http://dbpedia.org/property/deathPlace'),\n rdflib.term.URIRef('http://dbpedia.org/property/elevationM'),\n rdflib.term.URIRef('http://dbpedia.org/property/footer'),\n rdflib.term.URIRef('http://dbpedia.org/property/footerAlign'),\n rdflib.term.URIRef('http://dbpedia.org/property/geocode'),\n rdflib.term.URIRef('http://dbpedia.org/property/governingBody'),\n rdflib.term.URIRef('http://dbpedia.org/property/height'),\n rdflib.term.URIRef('http://dbpedia.org/property/image'),\n rdflib.term.URIRef('http://dbpedia.org/property/imageFlag'),\n rdflib.term.URIRef('http://dbpedia.org/property/imageShield'),\n rdflib.term.URIRef('http://dbpedia.org/property/isoCode'),\n rdflib.term.URIRef('http://dbpedia.org/property/leaderName'),\n rdflib.term.URIRef('http://dbpedia.org/property/leaderParty'),\n rdflib.term.URIRef('http://dbpedia.org/property/leaderTitle'),\n rdflib.term.URIRef('http://dbpedia.org/property/name'),\n rdflib.term.URIRef('http://dbpedia.org/property/perrow'),\n rdflib.term.URIRef('http://dbpedia.org/property/populationAsOf'),\n rdflib.term.URIRef('http://dbpedia.org/property/populationDemonyms'),\n rdflib.term.URIRef('http://dbpedia.org/property/populationMetro'),\n rdflib.term.URIRef('http://dbpedia.org/property/populationTotal'),\n rdflib.term.URIRef('http://dbpedia.org/property/pushpinMap'),\n rdflib.term.URIRef('http://dbpedia.org/property/pushpinMapCaption'),\n rdflib.term.URIRef('http://dbpedia.org/property/pushpinRelief'),\n rdflib.term.URIRef('http://dbpedia.org/property/reason'),\n rdflib.term.URIRef('http://dbpedia.org/property/registrationPlate'),\n rdflib.term.URIRef('http://dbpedia.org/property/settlementType'),\n rdflib.term.URIRef('http://dbpedia.org/property/shieldSize'),\n rdflib.term.URIRef('http://dbpedia.org/property/subdivisionType'),\n rdflib.term.URIRef('http://dbpedia.org/property/timezone'),\n rdflib.term.URIRef('http://dbpedia.org/property/timezone1Dst'),\n rdflib.term.URIRef('http://dbpedia.org/property/totalType'),\n rdflib.term.URIRef('http://dbpedia.org/property/totalWidth'),\n rdflib.term.URIRef('http://dbpedia.org/property/utcOffset'),\n rdflib.term.URIRef('http://dbpedia.org/property/utcOffset1Dst'),\n rdflib.term.URIRef('http://dbpedia.org/property/width'),\n rdflib.term.URIRef('http://dbpedia.org/property/wikiPageUsesTemplate'),\n rdflib.term.URIRef('http://purl.org/dc/terms/isPartOf'),\n rdflib.term.URIRef('http://purl.org/dc/terms/subject'),\n rdflib.term.URIRef('http://schema.org/sameAs'),\n rdflib.term.URIRef('http://www.georss.org/georss/point'),\n rdflib.term.URIRef('http://www.w3.org/1999/02/22-rdf-syntax-ns#type'),\n rdflib.term.URIRef('http://www.w3.org/2000/01/rdf-schema#comment'),\n rdflib.term.URIRef('http://www.w3.org/2000/01/rdf-schema#label'),\n rdflib.term.URIRef('http://www.w3.org/2000/01/rdf-schema#seeAlso'),\n rdflib.term.URIRef('http://www.w3.org/2002/07/owl#sameAs'),\n rdflib.term.URIRef('http://www.w3.org/2003/01/geo/wgs84_pos#geometry'),\n rdflib.term.URIRef('http://www.w3.org/2003/01/geo/wgs84_pos#lat'),\n rdflib.term.URIRef('http://www.w3.org/2003/01/geo/wgs84_pos#long'),\n rdflib.term.URIRef('http://www.w3.org/2004/02/skos/core#exactMatch'),\n rdflib.term.URIRef('http://www.w3.org/ns/prov#wasDerivedFrom'),\n rdflib.term.URIRef('http://xmlns.com/foaf/0.1/depiction'),\n rdflib.term.URIRef('http://xmlns.com/foaf/0.1/homepage'),\n rdflib.term.URIRef('http://xmlns.com/foaf/0.1/isPrimaryTopicOf'),\n rdflib.term.URIRef('http://xmlns.com/foaf/0.1/name'),\n rdflib.term.URIRef('http://xmlns.com/foaf/0.1/primaryTopic')}\n"
     ]
    }
   ],
   "source": [
    "# Get set of properties\n",
    "from rdflib.namespace import RDF, RDFS, OWL, FOAF\n",
    "\n",
    "properties1 = set()\n",
    "for s, p, o in g:\n",
    "    properties1.add(p)\n",
    "\n",
    "from pprint import pprint\n",
    "pprint(properties1)"
   ]
  },
  {
   "cell_type": "code",
   "execution_count": 10,
   "metadata": {},
   "outputs": [
    {
     "output_type": "execute_result",
     "data": {
      "text/plain": [
       "91"
      ]
     },
     "metadata": {},
     "execution_count": 10
    }
   ],
   "source": [
    "len(properties1)"
   ]
  },
  {
   "cell_type": "code",
   "execution_count": 15,
   "metadata": {},
   "outputs": [
    {
     "output_type": "stream",
     "name": "stdout",
     "text": [
      "{rdflib.term.URIRef('http://dbpedia.org/ontology/PopulatedPlace/areaTotal'),\n rdflib.term.URIRef('http://dbpedia.org/ontology/abstract'),\n rdflib.term.URIRef('http://dbpedia.org/ontology/areaCode'),\n rdflib.term.URIRef('http://dbpedia.org/ontology/areaTotal'),\n rdflib.term.URIRef('http://dbpedia.org/ontology/birthPlace'),\n rdflib.term.URIRef('http://dbpedia.org/ontology/country'),\n rdflib.term.URIRef('http://dbpedia.org/ontology/deathPlace'),\n rdflib.term.URIRef('http://dbpedia.org/ontology/elevation'),\n rdflib.term.URIRef('http://dbpedia.org/ontology/governingBody'),\n rdflib.term.URIRef('http://dbpedia.org/ontology/isoCodeRegion'),\n rdflib.term.URIRef('http://dbpedia.org/ontology/politicalLeader'),\n rdflib.term.URIRef('http://dbpedia.org/ontology/populationAsOf'),\n rdflib.term.URIRef('http://dbpedia.org/ontology/populationMetro'),\n rdflib.term.URIRef('http://dbpedia.org/ontology/populationTotal'),\n rdflib.term.URIRef('http://dbpedia.org/ontology/thumbnail'),\n rdflib.term.URIRef('http://dbpedia.org/ontology/timeZone'),\n rdflib.term.URIRef('http://dbpedia.org/ontology/type'),\n rdflib.term.URIRef('http://dbpedia.org/ontology/utcOffset'),\n rdflib.term.URIRef('http://dbpedia.org/ontology/wikiPageExternalLink'),\n rdflib.term.URIRef('http://dbpedia.org/ontology/wikiPageID'),\n rdflib.term.URIRef('http://dbpedia.org/ontology/wikiPageLength'),\n rdflib.term.URIRef('http://dbpedia.org/ontology/wikiPageRevisionID'),\n rdflib.term.URIRef('http://dbpedia.org/ontology/wikiPageWikiLink'),\n rdflib.term.URIRef('http://dbpedia.org/property/align'),\n rdflib.term.URIRef('http://dbpedia.org/property/areaCode'),\n rdflib.term.URIRef('http://dbpedia.org/property/areaTotalKm'),\n rdflib.term.URIRef('http://dbpedia.org/property/birthPlace'),\n rdflib.term.URIRef('http://dbpedia.org/property/blank1InfoSec'),\n rdflib.term.URIRef('http://dbpedia.org/property/blank1NameSec'),\n rdflib.term.URIRef('http://dbpedia.org/property/blank2InfoSec'),\n rdflib.term.URIRef('http://dbpedia.org/property/blank2NameSec'),\n rdflib.term.URIRef('http://dbpedia.org/property/blankInfoSec'),\n rdflib.term.URIRef('http://dbpedia.org/property/blankNameSec'),\n rdflib.term.URIRef('http://dbpedia.org/property/caption'),\n rdflib.term.URIRef('http://dbpedia.org/property/captionAlign'),\n rdflib.term.URIRef('http://dbpedia.org/property/date'),\n rdflib.term.URIRef('http://dbpedia.org/property/deathPlace'),\n rdflib.term.URIRef('http://dbpedia.org/property/elevationM'),\n rdflib.term.URIRef('http://dbpedia.org/property/footer'),\n rdflib.term.URIRef('http://dbpedia.org/property/footerAlign'),\n rdflib.term.URIRef('http://dbpedia.org/property/geocode'),\n rdflib.term.URIRef('http://dbpedia.org/property/governingBody'),\n rdflib.term.URIRef('http://dbpedia.org/property/height'),\n rdflib.term.URIRef('http://dbpedia.org/property/image'),\n rdflib.term.URIRef('http://dbpedia.org/property/imageFlag'),\n rdflib.term.URIRef('http://dbpedia.org/property/imageShield'),\n rdflib.term.URIRef('http://dbpedia.org/property/isoCode'),\n rdflib.term.URIRef('http://dbpedia.org/property/leaderName'),\n rdflib.term.URIRef('http://dbpedia.org/property/leaderParty'),\n rdflib.term.URIRef('http://dbpedia.org/property/leaderTitle'),\n rdflib.term.URIRef('http://dbpedia.org/property/name'),\n rdflib.term.URIRef('http://dbpedia.org/property/perrow'),\n rdflib.term.URIRef('http://dbpedia.org/property/populationAsOf'),\n rdflib.term.URIRef('http://dbpedia.org/property/populationDemonyms'),\n rdflib.term.URIRef('http://dbpedia.org/property/populationMetro'),\n rdflib.term.URIRef('http://dbpedia.org/property/populationTotal'),\n rdflib.term.URIRef('http://dbpedia.org/property/pushpinMap'),\n rdflib.term.URIRef('http://dbpedia.org/property/pushpinMapCaption'),\n rdflib.term.URIRef('http://dbpedia.org/property/pushpinRelief'),\n rdflib.term.URIRef('http://dbpedia.org/property/reason'),\n rdflib.term.URIRef('http://dbpedia.org/property/registrationPlate'),\n rdflib.term.URIRef('http://dbpedia.org/property/settlementType'),\n rdflib.term.URIRef('http://dbpedia.org/property/shieldSize'),\n rdflib.term.URIRef('http://dbpedia.org/property/subdivisionType'),\n rdflib.term.URIRef('http://dbpedia.org/property/timezone'),\n rdflib.term.URIRef('http://dbpedia.org/property/timezone1Dst'),\n rdflib.term.URIRef('http://dbpedia.org/property/totalType'),\n rdflib.term.URIRef('http://dbpedia.org/property/totalWidth'),\n rdflib.term.URIRef('http://dbpedia.org/property/utcOffset'),\n rdflib.term.URIRef('http://dbpedia.org/property/utcOffset1Dst'),\n rdflib.term.URIRef('http://dbpedia.org/property/width'),\n rdflib.term.URIRef('http://dbpedia.org/property/wikiPageUsesTemplate'),\n rdflib.term.URIRef('http://purl.org/dc/terms/isPartOf'),\n rdflib.term.URIRef('http://purl.org/dc/terms/subject'),\n rdflib.term.URIRef('http://schema.org/sameAs'),\n rdflib.term.URIRef('http://www.georss.org/georss/point'),\n rdflib.term.URIRef('http://www.w3.org/1999/02/22-rdf-syntax-ns#type'),\n rdflib.term.URIRef('http://www.w3.org/2000/01/rdf-schema#comment'),\n rdflib.term.URIRef('http://www.w3.org/2000/01/rdf-schema#label'),\n rdflib.term.URIRef('http://www.w3.org/2000/01/rdf-schema#seeAlso'),\n rdflib.term.URIRef('http://www.w3.org/2002/07/owl#sameAs'),\n rdflib.term.URIRef('http://www.w3.org/2003/01/geo/wgs84_pos#geometry'),\n rdflib.term.URIRef('http://www.w3.org/2003/01/geo/wgs84_pos#lat'),\n rdflib.term.URIRef('http://www.w3.org/2003/01/geo/wgs84_pos#long'),\n rdflib.term.URIRef('http://www.w3.org/2004/02/skos/core#exactMatch'),\n rdflib.term.URIRef('http://www.w3.org/ns/prov#wasDerivedFrom'),\n rdflib.term.URIRef('http://xmlns.com/foaf/0.1/depiction'),\n rdflib.term.URIRef('http://xmlns.com/foaf/0.1/homepage'),\n rdflib.term.URIRef('http://xmlns.com/foaf/0.1/isPrimaryTopicOf'),\n rdflib.term.URIRef('http://xmlns.com/foaf/0.1/name'),\n rdflib.term.URIRef('http://xmlns.com/foaf/0.1/primaryTopic')}\n"
     ]
    }
   ],
   "source": [
    "properties2 = set()\n",
    "for p in g.predicates():\n",
    "    properties2.add(p)\n",
    "\n",
    "pprint(properties2)"
   ]
  },
  {
   "cell_type": "code",
   "execution_count": 16,
   "metadata": {},
   "outputs": [
    {
     "output_type": "execute_result",
     "data": {
      "text/plain": [
       "91"
      ]
     },
     "metadata": {},
     "execution_count": 16
    }
   ],
   "source": [
    "len(properties2)"
   ]
  },
  {
   "cell_type": "code",
   "execution_count": 11,
   "metadata": {},
   "outputs": [
    {
     "output_type": "stream",
     "name": "stdout",
     "text": [
      "http://mn.dbpedia.org/resource/Берлин\nhttp://sl.dbpedia.org/resource/Berlin\nhttp://sh.dbpedia.org/resource/Berlin\nhttp://jv.dbpedia.org/resource/Berlin\nhttp://d-nb.info/gnd/7761961-4\nhttp://ru.dbpedia.org/resource/Берлин\nhttp://tr.dbpedia.org/resource/Batı_Berlin\nhttp://hr.dbpedia.org/resource/Berlin\nhttp://tr.dbpedia.org/resource/Doğu_Berlin\nhttp://et.dbpedia.org/resource/Lääne-Berliin\nhttp://sws.geonames.org/11612751/\nhttp://sws.geonames.org/2950157/\nhttp://sco.dbpedia.org/resource/Wast_Berlin\nhttp://fi.dbpedia.org/resource/Berliini\nhttp://de.dbpedia.org/resource/Berlin\nhttp://simple.dbpedia.org/resource/Berlin\nhttp://vi.dbpedia.org/resource/Tây_Berlin\nhttp://lv.dbpedia.org/resource/Berlīne\nhttp://arz.dbpedia.org/resource/بيرلين\nhttp://ur.dbpedia.org/resource/مشرقی_برلن\nhttp://nap.dbpedia.org/resource/Berlino\nhttp://be.dbpedia.org/resource/Усходні_Берлін\nhttp://uk.dbpedia.org/resource/Східний_Берлін\nhttp://az.dbpedia.org/resource/Qərbi_Berlin\nhttp://hy.dbpedia.org/resource/Բեռլին\nhttp://zh.dbpedia.org/resource/柏林\nhttp://lt.dbpedia.org/resource/Vakarų_Berlynas\nhttp://an.dbpedia.org/resource/Berlín\nhttp://sws.geonames.org/2950157\nhttp://eu.dbpedia.org/resource/Berlin\nhttp://fi.dbpedia.org/resource/Länsi-Berliini\nhttp://pnb.dbpedia.org/resource/برلن\nhttp://pms.dbpedia.org/resource/Berlin\nhttp://ky.dbpedia.org/resource/Берлин\nhttp://uk.dbpedia.org/resource/Західний_Берлін\nhttp://ar.dbpedia.org/resource/برلين_الشرقية\nhttp://hu.dbpedia.org/resource/Kelet-Berlin\nhttp://th.dbpedia.org/resource/เบอร์ลินตะวันตก\nhttp://he.dbpedia.org/resource/ברלין_המערבית\nhttp://ca.dbpedia.org/resource/Berlín\nhttp://mrj.dbpedia.org/resource/Берлин\nhttp://af.dbpedia.org/resource/Oos-Berlyn\nhttp://api.nytimes.com/svc/semantic/v2/concept/name/nytd_geo/Berlin%20(Germany)\nhttp://sws.geonames.org/6547383/\nhttp://da.dbpedia.org/resource/Østberlin\nhttp://www4.wiwiss.fu-berlin.de/eurostat/resource/regions/Berlin\nhttp://cy.dbpedia.org/resource/Berlin\nhttp://hsb.dbpedia.org/resource/Berlin\nhttp://ms.dbpedia.org/resource/Berlin_Timur\nhttp://sk.dbpedia.org/resource/Západný_Berlín\nhttp://ru.dbpedia.org/resource/Восточный_Берлин\nhttp://sw.dbpedia.org/resource/Berlin\nhttp://ro.dbpedia.org/resource/Berlinul_de_Vest\nhttp://th.dbpedia.org/resource/เบอร์ลินตะวันออก\nhttp://el.dbpedia.org/resource/Βερολίνο\nhttp://linked-web-apis.fit.cvut.cz/resource/berlin_city\nhttp://ht.dbpedia.org/resource/Bèlen\nhttp://fa.dbpedia.org/resource/برلین_شرقی\nhttp://et.dbpedia.org/resource/Berliin\nhttp://lt.dbpedia.org/resource/Berlynas\nhttp://th.dbpedia.org/resource/เบอร์ลิน\nhttp://nn.dbpedia.org/resource/Aust-Berlin\nhttp://ur.dbpedia.org/resource/برلن\nhttp://ckb.dbpedia.org/resource/بەرلین\nhttp://war.dbpedia.org/resource/Sinirangan_nga_Berlin\nhttp://et.dbpedia.org/resource/Ida-Berliin\nhttp://azb.dbpedia.org/resource/برلین\nhttp://mk.dbpedia.org/resource/Берлин\nhttp://vi.dbpedia.org/resource/Berlin\nhttp://ta.dbpedia.org/resource/பெர்லின்\nhttp://www.wikidata.org/entity/Q56037\nhttp://he.dbpedia.org/resource/ברלין\nhttp://d-nb.info/gnd/4005728-8/about/rdf\nhttp://sv.dbpedia.org/resource/Berlin\nhttp://mr.dbpedia.org/resource/पश्चिम_बर्लिन\nhttps://global.dbpedia.org/id/2wvzs\nhttp://eo.dbpedia.org/resource/Berlino\nhttp://si.dbpedia.org/resource/බර්ලිනය\nhttp://be.dbpedia.org/resource/Заходні_Берлін\nhttp://ko.dbpedia.org/resource/동베를린\nhttp://als.dbpedia.org/resource/Berlin\nhttp://gd.dbpedia.org/resource/Berlin\nhttp://d-nb.info/gnd/2004264-4\nhttp://ast.dbpedia.org/resource/Berlín_Oeste\nhttp://lmo.dbpedia.org/resource/Berlin\nhttp://sco.dbpedia.org/resource/East_Berlin\nhttp://ceb.dbpedia.org/resource/Berlin\nhttp://os.dbpedia.org/resource/Берлин\nhttp://scn.dbpedia.org/resource/Birlinu_est\nhttp://eu.dbpedia.org/resource/Ekialdeko_Berlin\nhttp://io.dbpedia.org/resource/Berlin\nhttp://bar.dbpedia.org/resource/West-Berlin\nhttp://zh.dbpedia.org/resource/东柏林\nhttp://viaf.org/viaf/142472483\nhttp://bg.dbpedia.org/resource/Берлин\nhttp://ar.dbpedia.org/resource/برلين_الغربية\nhttp://sh.dbpedia.org/resource/Istočni_Berlin\nhttp://cs.dbpedia.org/resource/Berlín\nhttp://he.dbpedia.org/resource/ברלין_המזרחית\nhttp://bs.dbpedia.org/resource/Zapadni_Berlin\nhttp://simple.dbpedia.org/resource/West_Berlin\nhttp://pl.dbpedia.org/resource/Berlin_(wschodni)\nhttp://es.dbpedia.org/resource/Berlín_Oeste\nhttp://li.dbpedia.org/resource/Berlien\nhttp://fy.dbpedia.org/resource/West-Berlyn\nhttp://d-nb.info/gnd/4069304-1/about/rdf\nhttp://ga.dbpedia.org/resource/Beirlín\nhttp://it.dbpedia.org/resource/Berlino\nhttp://ru.dbpedia.org/resource/Западный_Берлин\nhttp://ro.dbpedia.org/resource/Berlinul_de_Est\nhttp://sk.dbpedia.org/resource/Berlín\nhttp://ja.dbpedia.org/resource/東ベルリン\nhttp://ko.dbpedia.org/resource/베를린\nhttp://d-nb.info/gnd/4005728-8\nhttp://uk.dbpedia.org/resource/Берлін\nhttp://mzn.dbpedia.org/resource/برلین\nhttp://mr.dbpedia.org/resource/बर्लिन\nhttp://ml.dbpedia.org/resource/ബെർലിൻ\nhttp://sr.dbpedia.org/resource/Источни_Берлин\nhttp://d-nb.info/gnd/4087295-6\nhttp://lmo.dbpedia.org/resource/Berlin_Est\nhttp://pnb.dbpedia.org/resource/لیندا_برلن\nhttp://nn.dbpedia.org/resource/Vest-Berlin\nhttp://hy.dbpedia.org/resource/Արևելյան_Բեռլին\nhttp://ceb.dbpedia.org/resource/Berlin_(distrito)\nhttp://als.dbpedia.org/resource/Ostberlin\nhttp://cs.dbpedia.org/resource/Západní_Berlín\nhttp://tg.dbpedia.org/resource/Берлин\nhttp://hi.dbpedia.org/resource/बर्लिन\nhttp://nn.dbpedia.org/resource/Berlin\nhttp://new.dbpedia.org/resource/बर्लिन\nhttp://vi.dbpedia.org/resource/Đông_Berlin\nhttp://sws.geonames.org/2950159/\nhttp://commons.dbpedia.org/resource/Berlin\nhttp://fr.dbpedia.org/resource/Berlin-Est\nhttp://su.dbpedia.org/resource/Bérlin\nhttp://viaf.org/viaf/122530980\nhttp://lb.dbpedia.org/resource/Berlin\nhttp://sr.dbpedia.org/resource/Берлин\nhttp://eu.dbpedia.org/resource/Mendebaldeko_Berlin\nhttp://cs.dbpedia.org/resource/Východní_Berlín\nhttp://sw.cyc.com/concept/Mx4rvVjrhpwpEbGdrcN5Y29ycA\nhttp://d-nb.info/gnd/2004272-3\nhttp://pt.dbpedia.org/resource/Berlim_Leste\nhttp://lv.dbpedia.org/resource/Austrumberlīne\nhttp://gl.dbpedia.org/resource/Berlín\nhttp://pl.dbpedia.org/resource/Berlin_Zachodni\nhttp://hr.dbpedia.org/resource/Istočni_Berlin\nhttp://yi.dbpedia.org/resource/בערלין\nhttp://de.dbpedia.org/resource/West-Berlin\nhttp://bs.dbpedia.org/resource/Berlin\nhttp://es.dbpedia.org/resource/Berlín\nhttp://af.dbpedia.org/resource/Berlyn\nhttp://ja.dbpedia.org/resource/ベルリン\nhttp://hu.dbpedia.org/resource/Berlin\nhttp://tr.dbpedia.org/resource/Berlin\nhttp://pt.dbpedia.org/resource/Berlim\nhttp://or.dbpedia.org/resource/ବର୍ଲିନ\nhttp://ro.dbpedia.org/resource/Berlin\nhttp://d-nb.info/gnd/4087295-6/about/rdf\nhttp://ar.dbpedia.org/resource/برلين\nhttp://fy.dbpedia.org/resource/East-Berlyn\nhttp://bn.dbpedia.org/resource/পূর্ব_বার্লিন\nhttp://ca.dbpedia.org/resource/Berlín_Occidental\nhttp://viaf.org/viaf/141294625\nhttp://ur.dbpedia.org/resource/مغربی_برلن\nhttp://br.dbpedia.org/resource/Berlin\nhttp://linkedgeodata.org/triplify/node240109189\nhttp://vo.dbpedia.org/resource/Berlin\nhttp://ka.dbpedia.org/resource/ბერლინი\nhttp://es.dbpedia.org/resource/Berlín_Este\nhttp://sah.dbpedia.org/resource/Берлин\nhttp://bar.dbpedia.org/resource/Berlin\nhttp://is.dbpedia.org/resource/Berlín\nhttp://sa.dbpedia.org/resource/बर्लिन\nhttp://te.dbpedia.org/resource/బెర్లిన్\nhttp://war.dbpedia.org/resource/Berlin\nhttp://d-nb.info/gnd/35147-7\nhttp://simple.dbpedia.org/resource/East_Berlin\nhttp://sco.dbpedia.org/resource/Berlin\nhttp://el.dbpedia.org/resource/Δυτικό_Βερολίνο\nhttp://ast.dbpedia.org/resource/Berlín\nhttp://oc.dbpedia.org/resource/Berlin\nhttp://da.dbpedia.org/resource/Vestberlin\nhttp://nl.dbpedia.org/resource/Berlijn\nhttp://www.wikidata.org/entity/Q31910788\nhttp://sv.dbpedia.org/resource/Västberlin\nhttp://war.dbpedia.org/resource/Natondan_nga_Berlin\nhttp://ja.dbpedia.org/resource/西ベルリン\nhttp://fi.dbpedia.org/resource/Itä-Berliini\nhttp://ms.dbpedia.org/resource/Berlin\nhttp://uz.dbpedia.org/resource/Berlin\nhttp://rdf.freebase.com/ns/m.0156q\nhttp://my.dbpedia.org/resource/ဘာလင်မြို့\nhttp://hu.dbpedia.org/resource/Nyugat-Berlin\nhttp://dbpedia.org/resource/Berlin\nhttp://de.dbpedia.org/resource/Ost-Berlin\nhttp://vec.dbpedia.org/resource/Berlin\nhttp://sv.dbpedia.org/resource/Östberlin\nhttp://br.dbpedia.org/resource/Berlin_ar_Reter\nhttp://ne.dbpedia.org/resource/बर्लिन\nhttp://pl.dbpedia.org/resource/Berlin\nhttp://jv.dbpedia.org/resource/Berlin_Wétan\nhttp://cy.dbpedia.org/resource/Dwyrain_Berlin\nhttp://ia.dbpedia.org/resource/Berlin\nhttp://cv.dbpedia.org/resource/Берлин\nhttp://fr.dbpedia.org/resource/Berlin-Ouest\nhttp://am.dbpedia.org/resource/በርሊን\nhttp://af.dbpedia.org/resource/Wes-Berlyn\nhttp://pt.dbpedia.org/resource/Berlim_Ocidental\nhttp://mg.dbpedia.org/resource/Berlin\nhttp://d-nb.info/gnd/4069304-1\nhttp://pa.dbpedia.org/resource/ਬਰਲਿਨ\nhttp://ca.dbpedia.org/resource/Berlín_Oriental\nhttp://ko.dbpedia.org/resource/서베를린\nhttp://nds.dbpedia.org/resource/Berlin\nhttp://mr.dbpedia.org/resource/पूर्व_बर्लिन\nhttp://ku.dbpedia.org/resource/Berlîn\nhttp://sk.dbpedia.org/resource/Východný_Berlín\nhttp://fr.dbpedia.org/resource/Berlin\nhttp://mk.dbpedia.org/resource/Источен_Берлин\nhttp://id.dbpedia.org/resource/Berlin_Barat\nhttp://no.dbpedia.org/resource/Berlin\nhttp://www.wikidata.org/entity/Q56036\nhttp://kk.dbpedia.org/resource/Берлин\nhttp://jv.dbpedia.org/resource/Berlin_Kulon\nhttp://bn.dbpedia.org/resource/বার্লিন\nhttp://sws.geonames.org/6547539/\nhttp://lv.dbpedia.org/resource/Rietumberlīne\nhttp://eo.dbpedia.org/resource/Okcidenta_Berlino\nhttp://scn.dbpedia.org/resource/Birlinu\nhttp://kn.dbpedia.org/resource/ಬರ್ಲಿನ್\nhttp://pnb.dbpedia.org/resource/چڑھدا_برلن\nhttp://no.dbpedia.org/resource/Øst-Berlin\nhttp://qu.dbpedia.org/resource/Berlin\nhttp://no.dbpedia.org/resource/Vest-Berlin\nhttp://nl.dbpedia.org/resource/West-Berlijn\nhttp://it.dbpedia.org/resource/Berlino_Est\nhttp://be.dbpedia.org/resource/Берлін\nhttp://da.dbpedia.org/resource/Berlin\nhttp://sr.dbpedia.org/resource/Западни_Берлин\nhttp://la.dbpedia.org/resource/Berolinum\nhttp://bg.dbpedia.org/resource/Източен_Берлин\nhttp://sh.dbpedia.org/resource/Zapadni_Berlin\nhttp://fy.dbpedia.org/resource/Berlyn\nhttp://ka.dbpedia.org/resource/დასავლეთი_ბერლინი\nhttp://it.dbpedia.org/resource/Berlino_Ovest\nhttp://yago-knowledge.org/resource/Berlin\nhttp://id.dbpedia.org/resource/Berlin\nhttp://fa.dbpedia.org/resource/برلین_غربی\nhttp://fo.dbpedia.org/resource/Berlin\nhttp://ba.dbpedia.org/resource/Берлин\nhttp://el.dbpedia.org/resource/Ανατολικό_Βερολίνο\nhttp://id.dbpedia.org/resource/Berlin_Timur\nhttp://zh.dbpedia.org/resource/西柏林\nhttp://bg.dbpedia.org/resource/Западен_Берлин\nhttp://als.dbpedia.org/resource/Westberlin\nhttp://fa.dbpedia.org/resource/برلین\nhttp://ce.dbpedia.org/resource/Берлин\nhttp://ms.dbpedia.org/resource/Berlin_Barat\nhttp://yo.dbpedia.org/resource/Berlin\nhttp://tl.dbpedia.org/resource/Berlin\nhttp://www.wikidata.org/entity/Q64\nhttp://mk.dbpedia.org/resource/Западен_Берлин\nhttp://cy.dbpedia.org/resource/Gorllewin_Berlin\nhttp://ast.dbpedia.org/resource/Berlín_Este\nhttp://az.dbpedia.org/resource/Berlin\n"
     ]
    }
   ],
   "source": [
    "# Iterate over list of labels\n",
    "\n",
    "#for s, o in g.subject_objects(RDFS.label):\n",
    "for s, o in g.subject_objects(OWL.sameAs):\n",
    "    print(o)\n",
    "    #print(type(o))\n",
    "    #print(o.value, o.language, o.datatype)"
   ]
  },
  {
   "cell_type": "code",
   "execution_count": 12,
   "metadata": {},
   "outputs": [
    {
     "output_type": "stream",
     "name": "stdout",
     "text": [
      "3769495\n"
     ]
    }
   ],
   "source": [
    "population = URIRef('http://dbpedia.org/ontology/populationTotal')\n",
    "\n",
    "#for o in g.objects(None, RDFS.label):\n",
    "for o in g.objects(None, population):\n",
    "    #if o.language == 'en':\n",
    "        print(o)"
   ]
  },
  {
   "cell_type": "code",
   "execution_count": 14,
   "metadata": {},
   "outputs": [
    {
     "output_type": "stream",
     "name": "stdout",
     "text": [
      "de\n"
     ]
    }
   ],
   "source": [
    "# Get one value from Graph\n",
    "from rdflib import Namespace\n",
    "\n",
    "DBO = Namespace('http://dbpedia.org/ontology/')\n",
    "DBR = Namespace('http://dbpedia.org/resource/')\n",
    "\n",
    "#print(g.value(DBR['Berlin'], DBO['populationTotal'], None))\n",
    "#print(g.value(DBR['Berlin'], DBO['populationMetro'], None))\n",
    "#print(g.value(DBR['Berlin'], RDFS.label, None))\n",
    "print(g.value(DBR['Berlin'], RDFS.label, None).language)"
   ]
  },
  {
   "cell_type": "code",
   "execution_count": null,
   "metadata": {},
   "outputs": [],
   "source": []
  }
 ]
}