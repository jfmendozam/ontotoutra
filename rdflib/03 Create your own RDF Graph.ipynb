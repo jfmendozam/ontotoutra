{
  "nbformat": 4,
  "nbformat_minor": 0,
  "metadata": {
    "colab": {
      "name": "Creating RDF triples",
      "provenance": [],
      "collapsed_sections": []
    },
    "kernelspec": {
      "name": "python388jvsc74a57bd0f257dcd9d9ee9ad67d2a6a80223f32689d403f9ca3dc3190a69946f37d6a432e",
      "display_name": "Python 3.8.8 64-bit ('anaconda3': virtualenv)"
    }
  },
  "cells": [
    {
      "cell_type": "markdown",
      "metadata": {
        "id": "UDeikpHwyZzP"
      },
      "source": [
        "# **Creating RDF triples**\n",
        "\n",
        "RDF allows us to make statements about resources. A statement always has the following structure:\\\n",
        "`<subject> <predicate> <object>`.\n",
        "\n",
        "An RDF statement expresses a relationship between two resources. The subject and the object represent the two resources being related; the predicate represents the nature of their relationship. The relationship is phrased in a directional way (from subject to object) and is called in RDF a property. Because RDF statements consist of three elements they are called triples."
      ]
    },
    {
      "cell_type": "code",
      "metadata": {
        "id": "4AMD49H9lYw2"
      },
      "source": [
        "!pip install rdflib"
      ],
      "execution_count": null,
      "outputs": []
    },
    {
      "cell_type": "markdown",
      "metadata": {
        "id": "403cvmM5AeaT"
      },
      "source": [
        "## Creating Nodes\n",
        "\n",
        "The subjects and objects of the triples make up the nodes in the graph where the nodes are URI references, Blank Nodes or Literals. In RDFLib, these node types are represented by the classes **URIRef**, **BNode**, **Literal**. *URIRefs* and *Bnodes* can both be thought of as resources, such a person, a company, a website, etc.\n",
        "- A *BNode* is a node where the exact URI is not known.\n",
        "- A *URIRef* is a node where the exact URI is know. *URIRefs* are also used to represent the properties/predicates in the RDF graph.\n",
        "- *Literals* represent attribute values, such as a name, a date, a number, etc. The most common literal values are XML data types, e.g. string, int.."
      ]
    },
    {
      "cell_type": "markdown",
      "metadata": {
        "id": "1I3neplrD8hy"
      },
      "source": [
        "## Example RDF Graph\n",
        "\n",
        "![RDF Graph](https://www.w3.org/TR/rdf11-primer/example-graph-iris.jpg)\n",
        "\n",
        "### (Informal) Representation of the Graph\n",
        "`<Bob> <is a> <person>.`\\\n",
        "`<Bob> <is a friend of> <Alice>.`\\\n",
        "`<Bob> <is born on> <the 4th of July 1990>.`\\\n",
        "`<Bob> <is interested in> <the Mona Lisa>.`\\\n",
        "`<the Mona Lisa> <was created by> <Leonardo da Vinci>.`\\\n",
        "`<the video 'La Joconde à Washington'> <is about> <the Mona Lisa>`"
      ]
    },
    {
      "cell_type": "code",
      "metadata": {
        "id": "Y_qzkuxcAZRK"
      },
      "source": [
        "from rdflib import URIRef, BNode, Literal, Namespace\n",
        "from rdflib.namespace import FOAF, DCTERMS, XSD, RDF, SDO\n",
        "\n",
        "mona_lisa = URIRef('http://www.wikidata.org/entity/Q12418')\n",
        "davinci = URIRef('http://dbpedia.org/resource/Leonardo_da_Vinci')\n",
        "lajoconde = URIRef('http://data.europeana.eu/item/04802/243FA8618938F4117025F17A8B813C5F9AA4D619')\n",
        "\n",
        "EX = Namespace('http://example.org/')\n",
        "bob = EX['Bob']\n",
        "alice = EX['Alice']\n",
        "\n",
        "birth_date = Literal(\"1990-07-04\", datatype=XSD['date'])\n",
        "title = Literal('Mona Lisa', lang='en')"
      ],
      "execution_count": 2,
      "outputs": []
    },
    {
      "cell_type": "code",
      "metadata": {
        "id": "T9qhipQRGwuF",
        "colab": {
          "base_uri": "https://localhost:8080/",
          "height": 34
        },
        "outputId": "247840ca-209b-45f5-d788-3446e617a92f"
      },
      "source": [
        "title.value"
      ],
      "execution_count": 8,
      "outputs": [
        {
          "output_type": "execute_result",
          "data": {
            "text/plain": [
              "'Mona Lisa'"
            ]
          },
          "metadata": {},
          "execution_count": 8
        }
      ]
    },
    {
      "cell_type": "code",
      "metadata": {
        "id": "tC1iLOCkHnyS"
      },
      "source": [
        "from rdflib import Graph\n",
        "g = Graph()\n",
        "\n",
        "# Bind prefix to namespace\n",
        "g.bind('ex', EX)\n",
        "g.bind('foaf', FOAF)\n",
        "g.bind('schema', SDO)\n",
        "g.bind('dcterms', DCTERMS)\n",
        "\n",
        "g.add((bob, RDF.type, FOAF.Person))\n",
        "g.add((bob, FOAF.knows, alice))\n",
        "g.add((bob, FOAF['topic_interest'], mona_lisa))\n",
        "g.add((bob, SDO['birthDate'], birth_date))\n",
        "\n",
        "g.add((mona_lisa, DCTERMS['creator'], davinci))\n",
        "g.add((mona_lisa, DCTERMS['title'], title))\n",
        "g.add((lajoconde, DCTERMS['subject'], mona_lisa))"
      ],
      "execution_count": 4,
      "outputs": []
    },
    {
      "cell_type": "code",
      "metadata": {
        "id": "QT9iENftKa5v",
        "colab": {
          "base_uri": "https://localhost:8080/",
          "height": 336
        },
        "outputId": "eb756a97-a503-4272-adf3-dbc383df5cd8"
      },
      "source": [
        "print(g.serialize(format='xml').decode('u8'))"
      ],
      "execution_count": 10,
      "outputs": [
        {
          "output_type": "stream",
          "name": "stdout",
          "text": [
            "<?xml version=\"1.0\" encoding=\"UTF-8\"?>\n<rdf:RDF\n   xmlns:dcterms=\"http://purl.org/dc/terms/\"\n   xmlns:foaf=\"http://xmlns.com/foaf/0.1/\"\n   xmlns:rdf=\"http://www.w3.org/1999/02/22-rdf-syntax-ns#\"\n   xmlns:schema=\"https://schema.org/\"\n>\n  <rdf:Description rdf:about=\"http://example.org/Bob\">\n    <rdf:type rdf:resource=\"http://xmlns.com/foaf/0.1/Person\"/>\n    <foaf:topic_interest rdf:resource=\"http://www.wikidata.org/entity/Q12418\"/>\n    <schema:birthDate rdf:datatype=\"http://www.w3.org/2001/XMLSchema#date\">1990-07-04</schema:birthDate>\n    <foaf:knows rdf:resource=\"http://example.org/Alice\"/>\n  </rdf:Description>\n  <rdf:Description rdf:about=\"http://www.wikidata.org/entity/Q12418\">\n    <dcterms:creator rdf:resource=\"http://dbpedia.org/resource/Leonardo_da_Vinci\"/>\n    <dcterms:title xml:lang=\"en\">Mona Lisa</dcterms:title>\n  </rdf:Description>\n  <rdf:Description rdf:about=\"http://data.europeana.eu/item/04802/243FA8618938F4117025F17A8B813C5F9AA4D619\">\n    <dcterms:subject rdf:resource=\"http://www.wikidata.org/entity/Q12418\"/>\n  </rdf:Description>\n</rdf:RDF>\n\n"
          ]
        }
      ]
    },
    {
      "cell_type": "code",
      "metadata": {
        "id": "plbCFQQRVR2i"
      },
      "source": [
        "# Bind prefix to namespace\n",
        "# g.bind('ex', EX)\n",
        "# g.bind('foaf', FOAF)\n",
        "# g.bind('schema', SDO)\n",
        "# g.bind('dcterms', DCTERMS)"
      ],
      "execution_count": null,
      "outputs": []
    },
    {
      "cell_type": "code",
      "metadata": {
        "id": "93g6ggp7d-Ux",
        "colab": {
          "base_uri": "https://localhost:8080/",
          "height": 158
        },
        "outputId": "873d09ba-29d3-4b79-f8ca-a3ca86c4e21e"
      },
      "source": [
        "for prefix, ns in g.namespaces():\n",
        "    print(prefix, ns)"
      ],
      "execution_count": 11,
      "outputs": [
        {
          "output_type": "stream",
          "name": "stdout",
          "text": [
            "xml http://www.w3.org/XML/1998/namespace\nrdf http://www.w3.org/1999/02/22-rdf-syntax-ns#\nrdfs http://www.w3.org/2000/01/rdf-schema#\nxsd http://www.w3.org/2001/XMLSchema#\nex http://example.org/\nfoaf http://xmlns.com/foaf/0.1/\nschema https://schema.org/\ndcterms http://purl.org/dc/terms/\n"
          ]
        }
      ]
    },
    {
      "cell_type": "code",
      "metadata": {
        "id": "RPD0CbIrllVX"
      },
      "source": [
        "# Replace Literal value\n",
        "g.set((bob, SDO['birthDate'], Literal('1990-01-01', datatype=XSD.date)))\n",
        "g.set((mona_lisa, DCTERMS['title'], Literal('La Joconde', lang='fr')))"
      ],
      "execution_count": 13,
      "outputs": []
    },
    {
      "cell_type": "code",
      "metadata": {
        "id": "tW8PWdoknUUW",
        "colab": {
          "base_uri": "https://localhost:8080/",
          "height": 336
        },
        "outputId": "52da0123-6faf-4d7e-97c2-517ffc4b6a19"
      },
      "source": [
        "print(g.serialize(format='ttl').decode('u8'))"
      ],
      "execution_count": 14,
      "outputs": [
        {
          "output_type": "stream",
          "name": "stdout",
          "text": [
            "@prefix dcterms: <http://purl.org/dc/terms/> .\n@prefix ex: <http://example.org/> .\n@prefix foaf: <http://xmlns.com/foaf/0.1/> .\n@prefix schema: <https://schema.org/> .\n@prefix xsd: <http://www.w3.org/2001/XMLSchema#> .\n\n<http://data.europeana.eu/item/04802/243FA8618938F4117025F17A8B813C5F9AA4D619> dcterms:subject <http://www.wikidata.org/entity/Q12418> .\n\nex:Bob a foaf:Person ;\n    foaf:knows ex:Alice ;\n    foaf:topic_interest <http://www.wikidata.org/entity/Q12418> ;\n    schema:birthDate \"1990-01-01\"^^xsd:date .\n\n<http://www.wikidata.org/entity/Q12418> dcterms:creator <http://dbpedia.org/resource/Leonardo_da_Vinci> ;\n    dcterms:title \"La Joconde\"@fr .\n\n\n"
          ]
        }
      ]
    },
    {
      "cell_type": "code",
      "metadata": {
        "id": "GKYY3rgJn46N"
      },
      "source": [
        "# Remove triples from graph\n",
        "g.remove((mona_lisa, None, None))"
      ],
      "execution_count": 15,
      "outputs": []
    },
    {
      "cell_type": "code",
      "metadata": {
        "id": "Pw1nwUjMoAid",
        "colab": {
          "base_uri": "https://localhost:8080/",
          "height": 210
        },
        "outputId": "bad62286-8246-4eed-9b67-7f93f7c2a890"
      },
      "source": [
        "print(g.serialize(format='ttl').decode('utf-8'))"
      ],
      "execution_count": 16,
      "outputs": [
        {
          "output_type": "stream",
          "name": "stdout",
          "text": [
            "@prefix dcterms: <http://purl.org/dc/terms/> .\n@prefix ex: <http://example.org/> .\n@prefix foaf: <http://xmlns.com/foaf/0.1/> .\n@prefix schema: <https://schema.org/> .\n@prefix xsd: <http://www.w3.org/2001/XMLSchema#> .\n\n<http://data.europeana.eu/item/04802/243FA8618938F4117025F17A8B813C5F9AA4D619> dcterms:subject <http://www.wikidata.org/entity/Q12418> .\n\nex:Bob a foaf:Person ;\n    foaf:knows ex:Alice ;\n    foaf:topic_interest <http://www.wikidata.org/entity/Q12418> ;\n    schema:birthDate \"1990-01-01\"^^xsd:date .\n\n\n"
          ]
        }
      ]
    },
    {
      "cell_type": "code",
      "execution_count": null,
      "metadata": {},
      "outputs": [],
      "source": []
    }
  ]
}