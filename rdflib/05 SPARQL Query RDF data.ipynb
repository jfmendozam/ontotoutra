{
  "nbformat": 4,
  "nbformat_minor": 0,
  "metadata": {
    "colab": {
      "name": "rdflib querying with SPARQL.ipynb",
      "provenance": [],
      "collapsed_sections": []
    },
    "kernelspec": {
      "name": "python388jvsc74a57bd0f257dcd9d9ee9ad67d2a6a80223f32689d403f9ca3dc3190a69946f37d6a432e",
      "display_name": "Python 3.8.8 64-bit ('base': conda)"
    }
  },
  "cells": [
    {
      "cell_type": "markdown",
      "metadata": {
        "id": "UDeikpHwyZzP"
      },
      "source": [
        "# **Querying with SPARQL**\n"
      ]
    },
    {
      "cell_type": "code",
      "metadata": {
        "id": "MKoXtaS5Lxe3",
        "colab": {
          "base_uri": "https://localhost:8080/",
          "height": 87
        },
        "outputId": "4b720d43-7f47-470a-8ad1-19028478543c"
      },
      "source": [
        "!pip install rdflib"
      ],
      "execution_count": null,
      "outputs": [
        {
          "output_type": "stream",
          "text": [
            "Requirement already satisfied: rdflib in /usr/local/lib/python3.6/dist-packages (5.0.0)\n",
            "Requirement already satisfied: isodate in /usr/local/lib/python3.6/dist-packages (from rdflib) (0.6.0)\n",
            "Requirement already satisfied: six in /usr/local/lib/python3.6/dist-packages (from rdflib) (1.12.0)\n",
            "Requirement already satisfied: pyparsing in /usr/local/lib/python3.6/dist-packages (from rdflib) (2.4.7)\n"
          ],
          "name": "stdout"
        }
      ]
    },
    {
      "cell_type": "code",
      "metadata": {
        "id": "7_TIOVn1D835"
      },
      "source": [
        "from rdflib import Graph, URIRef\n",
        "from rdflib.namespace import RDFS, SKOS"
      ],
      "execution_count": 1,
      "outputs": []
    },
    {
      "cell_type": "code",
      "metadata": {
        "id": "-64CGUozE3c1",
        "colab": {
          "base_uri": "https://localhost:8080/",
          "height": 34
        },
        "outputId": "dc6b95cc-39c1-430b-b7b2-3996c3f02640"
      },
      "source": [
        "g = Graph()\n",
        "g.parse('https://www.wikidata.org/wiki/Special:EntityData/Q2831.ttl')"
      ],
      "execution_count": 2,
      "outputs": [
        {
          "output_type": "execute_result",
          "data": {
            "text/plain": [
              "<Graph identifier=Nbe036f6adb2b458fb559986bd07ba70d (<class 'rdflib.graph.Graph'>)>"
            ]
          },
          "metadata": {},
          "execution_count": 2
        }
      ]
    },
    {
      "cell_type": "code",
      "metadata": {
        "id": "lJIJflZcFlph",
        "colab": {
          "base_uri": "https://localhost:8080/",
          "height": 34
        },
        "outputId": "fd68287a-0e11-4725-f09c-483d5a633736"
      },
      "source": [
        "len(g)"
      ],
      "execution_count": 3,
      "outputs": [
        {
          "output_type": "execute_result",
          "data": {
            "text/plain": [
              "125028"
            ]
          },
          "metadata": {},
          "execution_count": 3
        }
      ]
    },
    {
      "cell_type": "code",
      "metadata": {
        "id": "iALdgz9lFohk"
      },
      "source": [
        "MJ = URIRef('http://www.wikidata.org/entity/Q2831')\n",
        "for label in g.objects(MJ, SKOS.altLabel):\n",
        "    print(label.value, label.language)"
      ],
      "execution_count": 4,
      "outputs": [
        {
          "output_type": "stream",
          "name": "stdout",
          "text": [
            "Miĥaelo Jozefo Jackson eo\nKing Of Pop gl\nThe King of Pop ban\nKing of Music en\nМајкл Џозеф Џексон sr\nകിംങ്ങ് ഓഫ് പോപ് ml\nRey del Pop es\nMichael Joe Jackson it\nМайкл Джо Джексон ru\nM.J. ban\nMJ ab\nMichael Joe Jackson nb\nማይክል ጆሴፍ ጃክሰን am\nEl Rey es\nMJ tr\nMichael Joseph Jackson nn\nRegele pop-ului ro\nMichael Joe Jackson sju\nDžekson Maikl Džozef vep\nMichael Joe Jackson et\nMichael Joe Jackson sje\nMichael Joe Jackson fi\nKing of Pop gcr\nRoi de la Pop fr\nᎹᏱᎩᎵ ᏦᏎᏫ ᏤᎩᏌᏂ chr\nMichael Joseph Jackson es\nМайкл Джозеф Джексон mhr\nМайкл Джо Джексон sjd\nMichael Joseph Jackson ca\nMichael Joseph Jackson de\nMJ ms\nMichael Joe Jackson sv\nThe King of Pop de\nMichael Joseph Jackson en\nMichael Joseph Jackson et\nRe del Pop it\nMichael Joseph Jackson smn\nMJ de\nMichael Joseph Jackson nl\nMJ ca\nMichael Joseph Jackson sms\nMichael Joseph Jackson nb\nThe King of Pop ab\nMJ sr\nКраљ попа sr\nMichael Joseph Jackson sv\nM.J. en\nMichael Joe Jackson en\nThe King es\nMichael Joe Jackson ms\nKing of Pop de\nA pop királya hu\nKról Popu pl\nМајкл Џо Џексон sr\nThe King of Pop nl\nThe King of Pop lb\nMichael Joe Jackson es\nMichael Jackson ab\nThe King gcr\nMJ ru\nKing of Music es\nMichael Joseph Jackson co\nKing of Pop ab\nപോപ് രാജാവ് ml\nپادشاه پاپ fa\nJacko it\nЕм-Џеј sr\nKing of Pop ban\nMichael Joe Jackson smj\nMJ ban\nДжексон, Майкл ru\nMJJ fr\nMichael Joe Jackson smn\nKing of Pop en\nThe King en\nKing Of Pop ca\nMJ es\n迈克尔杰克逊 zh\nMichael Joseph Jackson se\nMichael Joseph Jackson ab\n米高·積遜 zh-hk\nسلطان پاپ fa\nMichael Joe Jackson fit\nThe King of Pop ru\nМайкл Джозеф Джексон sjd\n邁克爾傑克遜 zh-hant\nMJ en\nMichael Joseph Jackson fit\nMJ hu\nThe King of Pop en\nThe King gl\nMichael Joe Jackson sma\nMichael Joseph Jackson ms\nMichaël Iosephus Jackson la\nRaja Pop ms\nroue pop br\nMichael Joseph Jackson it\nM.J. ab\nM.J. de\nMichael Joe Jackson rmf\nRegele muzicii pop ro\nКороль поп-музыки ru\nMichael Joseph Jackson sju\nМайкл Джо Джексон mhr\nMJ gcr\nمایکل جوزف جکسون fa\nMichaël Jackson la\nRey de la Música es\nام.جی. fa\nام‌جی fa\nMichael Joseph Jackson rmf\nJacko hu\nMichael Joseph Jackson hu\nMichael Joseph Jackson sma\nMichael Joseph Jackson lb\nMichael Joe Jackson se\nMJ lb\nമൈക്കൽ ജോ ജാക്സൺ ml\nMichael Joseph Jackson fr\nMichael Joseph Jackson gcr\nMichael Joe Jackson sms\nThe King of Pop frc\nМайкл Джозеф Джексон ru\nMaikl Džozef Džekson vep\nM. J. de\nMichael J. Jackson it\nMichael Joseph Jackson frc\nDžekson Maikl vep\nM.J. gcr\nMichael Joseph Jackson sje\nMJ ja\nМайкл Джексон mhr\nMichael Joseph Jackson ban\nMichael Joseph Jackson smj\nMJ gl\nഎം.ജെ ml\nملك البوب ar\nThe King ca\nM. J. en\nKing of Music ca\nKing of Pop es\nMJ fr\nMJJ co\nMichael Joseph Jackson fi\nمايكول جېكسون ug\nMichael Joseph Jackson br\nThe King of Pop gcr\n麥可·傑克森 zh\nJacko de\n"
          ]
        }
      ]
    },
    {
      "cell_type": "code",
      "metadata": {
        "id": "oMg-ItwlG3xU"
      },
      "source": [
        "labels = g.preferredLabel(MJ, labelProperties=(SKOS.altLabel,))\n",
        "for prop, label in labels:\n",
        "    print(label.value, label.language)"
      ],
      "execution_count": 5,
      "outputs": [
        {
          "output_type": "stream",
          "name": "stdout",
          "text": [
            "Miĥaelo Jozefo Jackson eo\nKing Of Pop gl\nThe King of Pop ban\nKing of Music en\nМајкл Џозеф Џексон sr\nകിംങ്ങ് ഓഫ് പോപ് ml\nRey del Pop es\nMichael Joe Jackson it\nМайкл Джо Джексон ru\nM.J. ban\nMJ ab\nMichael Joe Jackson nb\nማይክል ጆሴፍ ጃክሰን am\nEl Rey es\nMJ tr\nMichael Joseph Jackson nn\nRegele pop-ului ro\nMichael Joe Jackson sju\nDžekson Maikl Džozef vep\nMichael Joe Jackson et\nMichael Joe Jackson sje\nMichael Joe Jackson fi\nKing of Pop gcr\nRoi de la Pop fr\nᎹᏱᎩᎵ ᏦᏎᏫ ᏤᎩᏌᏂ chr\nMichael Joseph Jackson es\nМайкл Джозеф Джексон mhr\nМайкл Джо Джексон sjd\nMichael Joseph Jackson ca\nMichael Joseph Jackson de\nMJ ms\nMichael Joe Jackson sv\nThe King of Pop de\nMichael Joseph Jackson en\nMichael Joseph Jackson et\nRe del Pop it\nMichael Joseph Jackson smn\nMJ de\nMichael Joseph Jackson nl\nMJ ca\nMichael Joseph Jackson sms\nMichael Joseph Jackson nb\nThe King of Pop ab\nMJ sr\nКраљ попа sr\nMichael Joseph Jackson sv\nM.J. en\nMichael Joe Jackson en\nThe King es\nMichael Joe Jackson ms\nKing of Pop de\nA pop királya hu\nKról Popu pl\nМајкл Џо Џексон sr\nThe King of Pop nl\nThe King of Pop lb\nMichael Joe Jackson es\nMichael Jackson ab\nThe King gcr\nMJ ru\nKing of Music es\nMichael Joseph Jackson co\nKing of Pop ab\nപോപ് രാജാവ് ml\nپادشاه پاپ fa\nJacko it\nЕм-Џеј sr\nKing of Pop ban\nMichael Joe Jackson smj\nMJ ban\nДжексон, Майкл ru\nMJJ fr\nMichael Joe Jackson smn\nKing of Pop en\nThe King en\nKing Of Pop ca\nMJ es\n迈克尔杰克逊 zh\nMichael Joseph Jackson se\nMichael Joseph Jackson ab\n米高·積遜 zh-hk\nسلطان پاپ fa\nMichael Joe Jackson fit\nThe King of Pop ru\nМайкл Джозеф Джексон sjd\n邁克爾傑克遜 zh-hant\nMJ en\nMichael Joseph Jackson fit\nMJ hu\nThe King of Pop en\nThe King gl\nMichael Joe Jackson sma\nMichael Joseph Jackson ms\nMichaël Iosephus Jackson la\nRaja Pop ms\nroue pop br\nMichael Joseph Jackson it\nM.J. ab\nM.J. de\nMichael Joe Jackson rmf\nRegele muzicii pop ro\nКороль поп-музыки ru\nMichael Joseph Jackson sju\nМайкл Джо Джексон mhr\nMJ gcr\nمایکل جوزف جکسون fa\nMichaël Jackson la\nRey de la Música es\nام.جی. fa\nام‌جی fa\nMichael Joseph Jackson rmf\nJacko hu\nMichael Joseph Jackson hu\nMichael Joseph Jackson sma\nMichael Joseph Jackson lb\nMichael Joe Jackson se\nMJ lb\nമൈക്കൽ ജോ ജാക്സൺ ml\nMichael Joseph Jackson fr\nMichael Joseph Jackson gcr\nMichael Joe Jackson sms\nThe King of Pop frc\nМайкл Джозеф Джексон ru\nMaikl Džozef Džekson vep\nM. J. de\nMichael J. Jackson it\nMichael Joseph Jackson frc\nDžekson Maikl vep\nM.J. gcr\nMichael Joseph Jackson sje\nMJ ja\nМайкл Джексон mhr\nMichael Joseph Jackson ban\nMichael Joseph Jackson smj\nMJ gl\nഎം.ജെ ml\nملك البوب ar\nThe King ca\nM. J. en\nKing of Music ca\nKing of Pop es\nMJ fr\nMJJ co\nMichael Joseph Jackson fi\nمايكول جېكسون ug\nMichael Joseph Jackson br\nThe King of Pop gcr\n麥可·傑克森 zh\nJacko de\n"
          ]
        }
      ]
    },
    {
      "cell_type": "code",
      "metadata": {
        "id": "0AZLC2H5HJlO"
      },
      "source": [
        "# https://query.wikidata.org/#SELECT%20%3Flabel%0AWHERE%20%7B%0A%20%20wd%3AQ2831%20skos%3AaltLabel%20%3Flabel%20.%0A%7D\n",
        "qres = g.query('''\n",
        "    SELECT ?label\n",
        "    WHERE {\n",
        "        wd:Q2831 skos:altLabel ?label .\n",
        "    }\n",
        "''')\n",
        "for label, *_ in qres:\n",
        "    print(label.value, label.language)"
      ],
      "execution_count": 6,
      "outputs": [
        {
          "output_type": "stream",
          "name": "stdout",
          "text": [
            "Miĥaelo Jozefo Jackson eo\nKing Of Pop gl\nThe King of Pop ban\nKing of Music en\nМајкл Џозеф Џексон sr\nകിംങ്ങ് ഓഫ് പോപ് ml\nRey del Pop es\nMichael Joe Jackson it\nМайкл Джо Джексон ru\nM.J. ban\nMJ ab\nMichael Joe Jackson nb\nማይክል ጆሴፍ ጃክሰን am\nEl Rey es\nMJ tr\nMichael Joseph Jackson nn\nRegele pop-ului ro\nMichael Joe Jackson sju\nDžekson Maikl Džozef vep\nMichael Joe Jackson et\nMichael Joe Jackson sje\nMichael Joe Jackson fi\nKing of Pop gcr\nRoi de la Pop fr\nᎹᏱᎩᎵ ᏦᏎᏫ ᏤᎩᏌᏂ chr\nMichael Joseph Jackson es\nМайкл Джозеф Джексон mhr\nМайкл Джо Джексон sjd\nMichael Joseph Jackson ca\nMichael Joseph Jackson de\nMJ ms\nMichael Joe Jackson sv\nThe King of Pop de\nMichael Joseph Jackson en\nMichael Joseph Jackson et\nRe del Pop it\nMichael Joseph Jackson smn\nMJ de\nMichael Joseph Jackson nl\nMJ ca\nMichael Joseph Jackson sms\nMichael Joseph Jackson nb\nThe King of Pop ab\nMJ sr\nКраљ попа sr\nMichael Joseph Jackson sv\nM.J. en\nMichael Joe Jackson en\nThe King es\nMichael Joe Jackson ms\nKing of Pop de\nA pop királya hu\nKról Popu pl\nМајкл Џо Џексон sr\nThe King of Pop nl\nThe King of Pop lb\nMichael Joe Jackson es\nMichael Jackson ab\nThe King gcr\nMJ ru\nKing of Music es\nMichael Joseph Jackson co\nKing of Pop ab\nപോപ് രാജാവ് ml\nپادشاه پاپ fa\nJacko it\nЕм-Џеј sr\nKing of Pop ban\nMichael Joe Jackson smj\nMJ ban\nДжексон, Майкл ru\nMJJ fr\nMichael Joe Jackson smn\nKing of Pop en\nThe King en\nKing Of Pop ca\nMJ es\n迈克尔杰克逊 zh\nMichael Joseph Jackson se\nMichael Joseph Jackson ab\n米高·積遜 zh-hk\nسلطان پاپ fa\nMichael Joe Jackson fit\nThe King of Pop ru\nМайкл Джозеф Джексон sjd\n邁克爾傑克遜 zh-hant\nMJ en\nMichael Joseph Jackson fit\nMJ hu\nThe King of Pop en\nThe King gl\nMichael Joe Jackson sma\nMichael Joseph Jackson ms\nMichaël Iosephus Jackson la\nRaja Pop ms\nroue pop br\nMichael Joseph Jackson it\nM.J. ab\nM.J. de\nMichael Joe Jackson rmf\nRegele muzicii pop ro\nКороль поп-музыки ru\nMichael Joseph Jackson sju\nМайкл Джо Джексон mhr\nMJ gcr\nمایکل جوزف جکسون fa\nMichaël Jackson la\nRey de la Música es\nام.جی. fa\nام‌جی fa\nMichael Joseph Jackson rmf\nJacko hu\nMichael Joseph Jackson hu\nMichael Joseph Jackson sma\nMichael Joseph Jackson lb\nMichael Joe Jackson se\nMJ lb\nമൈക്കൽ ജോ ജാക്സൺ ml\nMichael Joseph Jackson fr\nMichael Joseph Jackson gcr\nMichael Joe Jackson sms\nThe King of Pop frc\nМайкл Джозеф Джексон ru\nMaikl Džozef Džekson vep\nM. J. de\nMichael J. Jackson it\nMichael Joseph Jackson frc\nDžekson Maikl vep\nM.J. gcr\nMichael Joseph Jackson sje\nMJ ja\nМайкл Джексон mhr\nMichael Joseph Jackson ban\nMichael Joseph Jackson smj\nMJ gl\nഎം.ജെ ml\nملك البوب ar\nThe King ca\nM. J. en\nKing of Music ca\nKing of Pop es\nMJ fr\nMJJ co\nMichael Joseph Jackson fi\nمايكول جېكسون ug\nMichael Joseph Jackson br\nThe King of Pop gcr\n麥可·傑克森 zh\nJacko de\n"
          ]
        }
      ]
    },
    {
      "cell_type": "code",
      "metadata": {
        "id": "yZlC48RVLH39"
      },
      "source": [
        "qres = g.query('''\n",
        "    SELECT DISTINCT ?label\n",
        "    WHERE {\n",
        "        wd:Q2831 rdfs:label | skos:prefLabel | skos:altLabel ?label .\n",
        "        FILTER (lang(?label) = 'en')\n",
        "    }\n",
        "    ORDER BY ?label\n",
        "''')\n",
        "for label, *_ in qres:\n",
        "    print(label)"
      ],
      "execution_count": 7,
      "outputs": [
        {
          "output_type": "stream",
          "name": "stdout",
          "text": [
            "King of Music\nKing of Pop\nM. J.\nM.J.\nMJ\nMichael Jackson\nMichael Joe Jackson\nMichael Joseph Jackson\nThe King\nThe King of Pop\n"
          ]
        }
      ]
    },
    {
      "cell_type": "code",
      "metadata": {
        "id": "yy6W8cnARoxs"
      },
      "source": [
        "qres = g.query('''\n",
        "    SELECT ?label ?description\n",
        "    WHERE {\n",
        "        wd:Q2831 wdt:P166 ?award .\n",
        "        ?award rdfs:label ?label .\n",
        "        FILTER (lang(?label) = 'en')\n",
        "        OPTIONAL {\n",
        "            ?award schema:description ?description\n",
        "            FILTER (lang(?description) = 'en')\n",
        "        }\n",
        "    }\n",
        "''')\n",
        "\n",
        "for label, description in qres:\n",
        "    print(f'Award: {label:<55} Description: {description}')"
      ],
      "execution_count": 8,
      "outputs": [
        {
          "output_type": "stream",
          "name": "stdout",
          "text": [
            "Award: Grammy Award for Best Music Film                        Description: award for concert/performance films or music documentaries\n",
            "Award: International Artist Award of Excellence                Description: American Music Award\n",
            "Award: Grammy Award for Album of the Year                      Description: American music award for excellent albums\n",
            "Award: Grammy Award for Song of the Year                       Description: American music award for excellent songwriting\n",
            "Award: Grammy Legend Award                                     Description: special music award of merit given to recording artists\n",
            "Award: Genesis Award                                           Description: awarded by the Humane Society of the United States\n",
            "Award: Grammy Award for Best Album for Children                Description: None\n",
            "Award: Grammy Award for Best Male R&B Vocal Performance        Description: None\n",
            "Award: Grammy Lifetime Achievement Award                       Description: music award given to individual performers or groups\n",
            "Award: Grammy Award for Best Male Rock Vocal Performance       Description: Grammy Award\n",
            "Award: Grammy Award for Best Male Pop Vocal Performance        Description: award\n",
            "Award: Grammy Award for Best Music Video                       Description: Music award\n",
            "Award: Grammy Award for Best R&B Song                          Description: None\n",
            "Award: Johnny Mercer Award                                     Description: award; highest honor bestowed by Songwriters Hall of Fame\n",
            "Award: Grammy Award for Producer of the Year, Non-Classical    Description: American music award category\n",
            "Award: Grammy Award for Record of the Year                     Description: award\n"
          ]
        }
      ]
    },
    {
      "cell_type": "code",
      "metadata": {
        "id": "g1M-uRxp_y4z",
        "colab": {
          "base_uri": "https://localhost:8080/",
          "height": 34
        },
        "outputId": "bd12c66d-1db6-48c3-9e84-793c4ff384c8"
      },
      "source": [
        "%timeit -n 1000 list(g.objects(MJ, RDFS.label))"
      ],
      "execution_count": 9,
      "outputs": [
        {
          "output_type": "stream",
          "name": "stdout",
          "text": [
            "555 µs ± 8.97 µs per loop (mean ± std. dev. of 7 runs, 1000 loops each)\n"
          ]
        }
      ]
    },
    {
      "cell_type": "code",
      "metadata": {
        "id": "o7Cj-6ys_5zP",
        "colab": {
          "base_uri": "https://localhost:8080/",
          "height": 34
        },
        "outputId": "6e423f67-b82d-456d-b2aa-05775071463b"
      },
      "source": [
        "%timeit -n 1000 g.preferredLabel(MJ, labelProperties=(RDFS.label,))"
      ],
      "execution_count": 10,
      "outputs": [
        {
          "output_type": "stream",
          "name": "stdout",
          "text": [
            "605 µs ± 7.19 µs per loop (mean ± std. dev. of 7 runs, 1000 loops each)\n"
          ]
        }
      ]
    },
    {
      "cell_type": "code",
      "metadata": {
        "id": "O6RHCJAdAFrm",
        "colab": {
          "base_uri": "https://localhost:8080/",
          "height": 34
        },
        "outputId": "62068334-8682-421f-fcbb-a6950092f36d"
      },
      "source": [
        "%timeit -n 1000 g.query('SELECT ?label WHERE {wd:Q2831 rdfs:label ?label}')"
      ],
      "execution_count": 11,
      "outputs": [
        {
          "output_type": "stream",
          "name": "stdout",
          "text": [
            "1.64 ms ± 51.4 µs per loop (mean ± std. dev. of 7 runs, 1000 loops each)\n"
          ]
        }
      ]
    },
    {
      "cell_type": "code",
      "execution_count": null,
      "metadata": {},
      "outputs": [],
      "source": []
    }
  ]
}