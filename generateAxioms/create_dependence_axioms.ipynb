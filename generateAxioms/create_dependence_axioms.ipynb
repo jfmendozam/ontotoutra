{
 "metadata": {
  "language_info": {
   "codemirror_mode": {
    "name": "ipython",
    "version": 3
   },
   "file_extension": ".py",
   "mimetype": "text/x-python",
   "name": "python",
   "nbconvert_exporter": "python",
   "pygments_lexer": "ipython3",
   "version": "3.8.8"
  },
  "orig_nbformat": 2,
  "kernelspec": {
   "name": "python388jvsc74a57bd0f257dcd9d9ee9ad67d2a6a80223f32689d403f9ca3dc3190a69946f37d6a432e",
   "display_name": "Python 3.8.8 64-bit ('anaconda3': virtualenv)"
  }
 },
 "nbformat": 4,
 "nbformat_minor": 2,
 "cells": [
  {
   "source": [
    "# Add the hasCountryParent axiom"
   ],
   "cell_type": "markdown",
   "metadata": {}
  },
  {
   "cell_type": "code",
   "execution_count": 61,
   "metadata": {},
   "outputs": [],
   "source": [
    "import os\n",
    "\n",
    "owl_path = '/home/jf/Documentos/education/phd/thesis/dev/ontologies/protege/'\n",
    "owl_filename = os.path.join(owl_path, 'ontotoutra.owl')\n",
    "\n",
    "insert_data = '        <ontotoutra:hasCountryParent rdf:resource=\"http://tourdata.org/ontotoutra/ontotoutra.owl#Colombia\"/>\\n'\n",
    "with open(owl_filename) as input_file:\n",
    "    with open('ott2.owl', 'w') as output_file:\n",
    "        previous_line = ''\n",
    "        for i, line in enumerate(input_file):\n",
    "            output_file.write(line)\n",
    "            if (line.find('#State') != -1 and previous_line.find('owl:NamedIndividual') != -1):\n",
    "                output_file.write(insert_data)\n",
    "            previous_line = line\n"
   ]
  },
  {
   "source": [
    "# Add the hasStateParent axiom"
   ],
   "cell_type": "markdown",
   "metadata": {}
  },
  {
   "cell_type": "code",
   "execution_count": 12,
   "metadata": {},
   "outputs": [],
   "source": [
    "import os\n",
    "import csv\n",
    "\n",
    "dict_path     = '/home/jf/Documentos/education/phd/thesis/dev/ontologies/protege/mysql csv data/'\n",
    "dict_filename = os.path.join(dict_path, 'states_sparql.csv')\n",
    "reader        = csv.reader(open(dict_filename, 'r'))\n",
    "\n",
    "# Load the states dictionary\n",
    "states = {}\n",
    "for k, v in reader:\n",
    "    if k != 'stateID':\n",
    "        states[k] = v\n"
   ]
  },
  {
   "cell_type": "code",
   "execution_count": 20,
   "metadata": {},
   "outputs": [],
   "source": [
    "# Read the ontology file and store it in a list\n",
    "owl_path = '/home/jf/Documentos/education/phd/thesis/dev/ontologies/protege/'\n",
    "owl_filename = os.path.join(owl_path, 'ontotoutra.owl')\n",
    "\n",
    "input_file = open(owl_filename, \"r\")\n",
    "owl_list = [line for line in input_file]\n",
    "input_file.close()"
   ]
  },
  {
   "cell_type": "code",
   "execution_count": 23,
   "metadata": {},
   "outputs": [],
   "source": [
    "# Add the hasStateParent axiom\n",
    "insert_data = '        <ontotoutra:hasStateParent rdf:resource=\"{}\"/>\\n'\n",
    "\n",
    "with open('ott2.owl', 'w') as output_file:\n",
    "    for i in range(len(owl_list)):\n",
    "        # Write the owl-file line\n",
    "        output_file.write(owl_list[i])\n",
    "\n",
    "        # Is the city  axiom?\n",
    "        if (owl_list[i].find('#City') != -1 and owl_list[i - 1].find('owl:NamedIndividual') != -1):\n",
    "            \n",
    "            # Get a state ID\n",
    "            j = i + 1\n",
    "            while (owl_list[j].find('owl:NamedIndividual') == -1):\n",
    "                if (owl_list[j].find('stateID') != -1):\n",
    "                    state_id_line  = owl_list[j]\n",
    "                    state_id_start = state_id_line.find('>') + 1\n",
    "                    state_id_end   = state_id_line.find('<', state_id_start)\n",
    "                    state_id       = state_id_line[state_id_start: state_id_end]\n",
    "\n",
    "                    # Write out the new axiom\n",
    "                    output_file.write(insert_data.format(states[state_id]))\n",
    "                j = j + 1"
   ]
  },
  {
   "source": [
    "# Add the hasCityParent axiom"
   ],
   "cell_type": "markdown",
   "metadata": {}
  },
  {
   "cell_type": "code",
   "execution_count": 29,
   "metadata": {},
   "outputs": [],
   "source": [
    "import os\n",
    "import csv\n",
    "\n",
    "dict_path     = '/home/jf/Documentos/education/phd/thesis/dev/ontologies/protege/mysql csv data/'\n",
    "dict_filename = os.path.join(dict_path, 'cities_sparql.csv')\n",
    "reader        = csv.reader(open(dict_filename, 'r'))\n",
    "\n",
    "# Load the cities dictionary\n",
    "cities = {}\n",
    "for k, v in reader:\n",
    "    if k != 'cityID':\n",
    "       cities[k] = v"
   ]
  },
  {
   "cell_type": "code",
   "execution_count": 30,
   "metadata": {},
   "outputs": [],
   "source": [
    "# Read the ontology file and store it in a list\n",
    "owl_path = '/home/jf/Documentos/education/phd/thesis/dev/ontologies/protege/'\n",
    "owl_filename = os.path.join(owl_path, 'ontotoutra.owl')\n",
    "\n",
    "input_file = open(owl_filename, \"r\")\n",
    "owl_list = [line for line in input_file]\n",
    "input_file.close()"
   ]
  },
  {
   "cell_type": "code",
   "execution_count": 31,
   "metadata": {},
   "outputs": [],
   "source": [
    "# Add the hasCityParent axiom\n",
    "insert_data = '        <ontotoutra:hasCityParent rdf:resource=\"{}\"/>\\n'\n",
    "\n",
    "with open('ott2.owl', 'w') as output_file:\n",
    "    for i in range(len(owl_list)):\n",
    "        # Write the owl-file line\n",
    "        output_file.write(owl_list[i])\n",
    "\n",
    "        # Is the hotel axiom?\n",
    "        if (owl_list[i].find('#Hotel') != -1 and owl_list[i - 1].find('owl:NamedIndividual') != -1):\n",
    "            \n",
    "            # Get a city ID\n",
    "            j = i + 1\n",
    "            while (owl_list[j].find('owl:NamedIndividual') == -1):\n",
    "                if (owl_list[j].find('cityID') != -1):\n",
    "                    city_id_line  = owl_list[j]\n",
    "                    city_id_start = city_id_line.find('>') + 1\n",
    "                    city_id_end   = city_id_line.find('<', city_id_start)\n",
    "                    city_id       = city_id_line[city_id_start: city_id_end]\n",
    "\n",
    "                    # Write out the new axiom\n",
    "                    output_file.write(insert_data.format(cities[city_id]))\n",
    "                j = j + 1"
   ]
  },
  {
   "cell_type": "code",
   "execution_count": null,
   "metadata": {},
   "outputs": [],
   "source": []
  }
 ]
}